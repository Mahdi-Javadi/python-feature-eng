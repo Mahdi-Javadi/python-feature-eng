{
 "cells": [
  {
   "cell_type": "markdown",
   "metadata": {},
   "source": [
    "# Data preperation for Plots in rstudio"
   ]
  },
  {
   "cell_type": "markdown",
   "metadata": {},
   "source": [
    "- Import libraries and functions"
   ]
  },
  {
   "cell_type": "code",
   "execution_count": null,
   "metadata": {},
   "outputs": [],
   "source": [
    "import numpy as np \n",
    "import pandas as pd\n",
    "def merge_patusi(df1, df2):\n",
    "    '''Merge on \"patient unit stay id\"'''\n",
    "    \n",
    "    return pd.merge(\n",
    "        df1,\n",
    "        df2,\n",
    "        how='inner',\n",
    "        on='patientunitstayid',\n",
    "    )"
   ]
  },
  {
   "cell_type": "markdown",
   "metadata": {},
   "source": [
    "- Import Datasets"
   ]
  },
  {
   "cell_type": "code",
   "execution_count": null,
   "metadata": {},
   "outputs": [],
   "source": [
    "apsvar = pd.read_csv('data/apacheApsVar.csv')\n",
    "ascore_orig = pd.read_csv('data/apachePatientResult.csv')[\n",
    "    ['patientunitstayid', 'apachescore']\n",
    "].dropna()\n",
    "admitsource = pd.read_csv(('data/apachePredVar.csv'))[\n",
    "    ['patientunitstayid', 'admitsource']\n",
    "]"
   ]
  },
  {
   "cell_type": "markdown",
   "metadata": {},
   "source": [
    "- Add a column x_agegroup in patient data"
   ]
  },
  {
   "cell_type": "code",
   "execution_count": null,
   "metadata": {},
   "outputs": [],
   "source": [
    "#!/bin/bash\n",
    "\n",
    "path=\"${1:-.}\"\n",
    "\n",
    "sed <\"$path/data/patient.csv\" 's/,> 89,/,90,/' \\\n",
    "| awk '\n",
    "    BEGIN {\n",
    "      FS = \",\";\n",
    "      OFS = \",\";\n",
    "    }\n",
    "\n",
    "    NR == 1 {\n",
    "      // add header\n",
    "      print $0, \"x_agegroup\";\n",
    "    }\n",
    "\n",
    "    NR > 1 {\n",
    "      age = $4;\n",
    "\n",
    "      if (age < 25)\n",
    "        grp = \"15-24\";\n",
    "      else if (age < 35)\n",
    "        grp = \"25-34\";\n",
    "      else if (age < 45)\n",
    "        grp = \"35-44\";\n",
    "      else if (age < 55)\n",
    "        grp = \"45-54\";\n",
    "      else if (age < 65)\n",
    "        grp = \"55-64\";\n",
    "      else if (age < 75)\n",
    "        grp = \"65-74\";\n",
    "      else if (age < 85)\n",
    "        grp = \"75-84\";\n",
    "      else\n",
    "          grp = \"85+\";\n",
    "\n",
    "      print $0, grp;\n",
    "    }\n",
    "' >\"$path/data/patient_pp.csv\""
   ]
  },
  {
   "cell_type": "code",
   "execution_count": null,
   "metadata": {},
   "outputs": [],
   "source": [
    "patient_data= pd.read_csv('data/patient_pp.csv')[\n",
    "    ['patientunitstayid',\n",
    "     'unitdischargestatus',\n",
    "     'gender',\n",
    "     'ethnicity',\n",
    "     'unitvisitnumber',\n",
    "     'x_agegroup']\n",
    "]"
   ]
  },
  {
   "cell_type": "markdown",
   "metadata": {},
   "source": [
    "- Preprocessing ApacheApsVar.csv\n",
    "- Replace the missing values by the mode of each column"
   ]
  },
  {
   "cell_type": "code",
   "execution_count": null,
   "metadata": {},
   "outputs": [],
   "source": [
    "Columns = apsvar.columns\n",
    "from sklearn.impute import SimpleImputer\n",
    "imp = SimpleImputer(missing_values=-1,\n",
    "                    strategy='most_frequent')\n",
    "apsvar_mode=pd.DataFrame(\n",
    "    data=imp.fit_transform(apsvar),\n",
    "    columns=Columns)"
   ]
  },
  {
   "cell_type": "markdown",
   "metadata": {},
   "source": [
    "- Save the data into csv file"
   ]
  },
  {
   "cell_type": "code",
   "execution_count": null,
   "metadata": {},
   "outputs": [],
   "source": [
    "apsvar_mode.to_csv('data/apacheApsVar_mode.csv', index=False)"
   ]
  },
  {
   "cell_type": "markdown",
   "metadata": {},
   "source": [
    "- Preprocessing ApacheScore"
   ]
  },
  {
   "cell_type": "code",
   "execution_count": null,
   "metadata": {},
   "outputs": [],
   "source": [
    "# ascore.patientunitstayid.sort_values()\n",
    "for grp, tbl in ascore_orig.groupby('patientunitstayid'):\n",
    "    assert len(tbl.apachescore.unique()) == 1\n",
    "ascore = ascore_orig.drop_duplicates('patientunitstayid')"
   ]
  },
  {
   "cell_type": "markdown",
   "metadata": {},
   "source": [
    "- Save the data into csv file"
   ]
  },
  {
   "cell_type": "code",
   "execution_count": null,
   "metadata": {},
   "outputs": [],
   "source": [
    "ascore.to_csv('data/ascore.csv', index = False)"
   ]
  },
  {
   "cell_type": "markdown",
   "metadata": {},
   "source": [
    "- Merge Data based on patientunitstayid"
   ]
  },
  {
   "cell_type": "code",
   "execution_count": null,
   "metadata": {},
   "outputs": [],
   "source": [
    "plots_in_r = (merge_patusi(merge_patusi(ascore,admitsource),patient_data)).dropna()"
   ]
  },
  {
   "cell_type": "markdown",
   "metadata": {},
   "source": [
    "- Remove -1 from APACHE score\n",
    "- Remove -1 from admitsource"
   ]
  },
  {
   "cell_type": "code",
   "execution_count": null,
   "metadata": {},
   "outputs": [],
   "source": [
    "plots_in_r = plots_in_r[\n",
    "    plots_in_r.apachescore != -1\n",
    "]\n",
    "plots_in_r= plots_in_r[\n",
    "    plots_in_r.admitsource != -1\n",
    "]"
   ]
  },
  {
   "cell_type": "markdown",
   "metadata": {},
   "source": [
    "- Change names: \n",
    "- Admit sources\n",
    "- Unit visit numbers"
   ]
  },
  {
   "cell_type": "code",
   "execution_count": null,
   "metadata": {},
   "outputs": [],
   "source": [
    "names=[\"Operating Room\",\n",
    "       \"Recovery Room\",\n",
    "       \"Chest Pain Center\",\n",
    "       \"Floor/Step-Down Unit (SDU)\",\n",
    "       \"Other ICU\",\n",
    "       \"Other Hospital\",\n",
    "       \"Direct Admit\",\n",
    "       \"Emergency Department\"]\n",
    "\n",
    "plots_in_r['Admitsource']=[names[F-1] for F in plots_in_r.admitsource ]\n",
    "names = ['1','2 or more']\n",
    "L = []\n",
    "for i in plots_in_r.unitvisitnumber:\n",
    "    if i==1:\n",
    "        L.append(names[0])\n",
    "    else :\n",
    "        L.append(names[1])\n",
    "plots_in_r['Unitvisitnumber_cat']=L        \n",
    "plots_in_r=plots_in_r.drop(columns=['admitsource'])"
   ]
  },
  {
   "cell_type": "markdown",
   "metadata": {},
   "source": [
    "- Save the data into csv file"
   ]
  },
  {
   "cell_type": "code",
   "execution_count": null,
   "metadata": {},
   "outputs": [],
   "source": [
    "plots_in_r.to_csv('data/plots_in_r.csv', index=False)"
   ]
  },
  {
   "cell_type": "markdown",
   "metadata": {},
   "source": [
    "- The plots will be carried out in rstudio"
   ]
  },
  {
   "cell_type": "markdown",
   "metadata": {},
   "source": [
    "# t-SNE algorithm\n",
    "## Procedure\n",
    "- Import Libraries\n",
    "- Load the data we want to apply t-SNE on\n",
    "- Run t-SNE\n",
    "- Save the data"
   ]
  },
  {
   "cell_type": "code",
   "execution_count": null,
   "metadata": {},
   "outputs": [],
   "source": [
    "import numpy as np\n",
    "import pandas as pd\n",
    "from sklearn.manifold import TSNE"
   ]
  },
  {
   "cell_type": "code",
   "execution_count": null,
   "metadata": {},
   "outputs": [],
   "source": [
    "apsVar_mode=pd.read_csv('data/apacheApsVar_mode.csv').drop(columns=[\n",
    "        'apacheapsvarid',\n",
    "    \n",
    "    #'fio2', 'pco2', 'pao2', 'ph', 'bilirubin', 'albumin', 'urine', ###### Nothing removed\n",
    "    #'wbc','hematocrit', 'bun', 'creatinine', 'sodium', ##### Over 26 missing value\n",
    "    #'glucose', ##### Over 14 missing value\n",
    "])"
   ]
  },
  {
   "cell_type": "markdown",
   "metadata": {},
   "source": [
    "- Run t-SNE algorithm \n",
    "- Assign Preplexity between 5 to 50. Here 50.\n",
    "- For larger dataset , bigger number"
   ]
  },
  {
   "cell_type": "code",
   "execution_count": null,
   "metadata": {},
   "outputs": [],
   "source": [
    "tsne=TSNE(perplexity=50)\n",
    "%time tsne_apsVar_mdoe=tsne.fit_transform(\n",
    "    apsVar_mode.drop(\n",
    "        columns=['patientunitstayid']\n",
    "    )\n",
    ")"
   ]
  },
  {
   "cell_type": "markdown",
   "metadata": {},
   "source": [
    "- Conver the data from the t-SNE into DataFrame and save in csv"
   ]
  },
  {
   "cell_type": "code",
   "execution_count": null,
   "metadata": {},
   "outputs": [],
   "source": [
    "tsne_apsVar_mdoe=pd.DataFrame(data=tsne_apsVar_mdoe,columns=['x','y'])\n",
    "tsne_apsVar_mdoe.to_csv('data/apsVarmode_nothing_removed_pp50.csv',index=False)"
   ]
  },
  {
   "cell_type": "markdown",
   "metadata": {},
   "source": [
    "## Plot the data from t-SNE \n",
    "### Procedure\n",
    "- Load the data from t-SNE with columns x,y\n",
    "- Add patientunitstayid to this dataframe\n",
    "- Merge the data with Expired/Alive(patient) and plot\n",
    "- Merge the data with Apache Score(patient) and plot"
   ]
  },
  {
   "cell_type": "code",
   "execution_count": null,
   "metadata": {},
   "outputs": [],
   "source": [
    "import matplotlib.pyplot as plt\n",
    "from matplotlib.lines import Line2D"
   ]
  },
  {
   "cell_type": "code",
   "execution_count": null,
   "metadata": {},
   "outputs": [],
   "source": [
    "tsne_data=pd.read_csv('data/apsVarmode_nothing_removed_pp50.csv')\n",
    "apsVarmode=pd.read_csv('data/apacheApsVar_mode.csv')\n",
    "ascore = pd.read_csv('data/ascore.csv')"
   ]
  },
  {
   "cell_type": "markdown",
   "metadata": {},
   "source": [
    "- Append the patientunitstayid"
   ]
  },
  {
   "cell_type": "code",
   "execution_count": null,
   "metadata": {},
   "outputs": [],
   "source": [
    "tsne_data['patientunitstayid']=apsVarmode.patientunitstayid"
   ]
  },
  {
   "cell_type": "markdown",
   "metadata": {},
   "source": [
    "- Add unitdischargestatus and APACHE score to the data"
   ]
  },
  {
   "cell_type": "code",
   "execution_count": null,
   "metadata": {},
   "outputs": [],
   "source": [
    "patient_uds=pd.read_csv('data/patient_pp.csv')[\n",
    "    ['patientunitstayid','unitdischargestatus']\n",
    "]"
   ]
  },
  {
   "cell_type": "code",
   "execution_count": null,
   "metadata": {},
   "outputs": [],
   "source": [
    "tsne_data_ascore_uds=merge_patusi(merge_patusi(tsne_data,ascore),patient_uds)"
   ]
  },
  {
   "cell_type": "markdown",
   "metadata": {},
   "source": [
    "- Sort with respect to expired patients\n",
    "- The reason is the small number of the expired patients compared to alive patients\n",
    "- We want to plot them in away, that if 2 points mapped above together, we do not miss the expired patients data"
   ]
  },
  {
   "cell_type": "code",
   "execution_count": null,
   "metadata": {},
   "outputs": [],
   "source": [
    "tsne_data_ascore_uds=(\n",
    "    tsne_data_ascore_uds.sort_values(by='unitdischargestatus')\n",
    ").dropna()"
   ]
  },
  {
   "cell_type": "code",
   "execution_count": null,
   "metadata": {},
   "outputs": [],
   "source": [
    "len(tsne_data_ascore_uds)"
   ]
  },
  {
   "cell_type": "markdown",
   "metadata": {},
   "source": [
    "## Plot tsne-ascore"
   ]
  },
  {
   "cell_type": "code",
   "execution_count": null,
   "metadata": {},
   "outputs": [],
   "source": [
    "tsne_data_ascore = tsne_data_ascore_uds[\n",
    "    tsne_data_ascore_uds.apachescore !=-1\n",
    "]"
   ]
  },
  {
   "cell_type": "code",
   "execution_count": null,
   "metadata": {},
   "outputs": [],
   "source": [
    "fig, ax=plt.subplots(figsize=(18,15))\n",
    "cm=plt.cm.get_cmap('viridis')\n",
    "im = ax.scatter(tsne_data_ascore.x,tsne_data_ascore.y,c=tsne_data_ascore.apachescore,cmap=cm,s=4)\n",
    "cb=fig.colorbar(im, ax=ax)\n",
    "cb.set_label(label='APACHE score', size=40)#weight='bold'\n",
    "cb.ax.tick_params(labelsize=40)\n",
    "plt.show()"
   ]
  },
  {
   "cell_type": "markdown",
   "metadata": {},
   "source": [
    "## Plot tsne_patient_uds"
   ]
  },
  {
   "cell_type": "code",
   "execution_count": null,
   "metadata": {},
   "outputs": [],
   "source": [
    "fig, ax=plt.subplots(figsize=(15,15))\n",
    "color = [\n",
    "    'red' if s == 'Expired' else 'royalblue'\n",
    "    for s in tsne_data_ascore_uds['unitdischargestatus']\n",
    "]\n",
    "im = ax.scatter(tsne_data_ascore_uds.x,tsne_data_ascore_uds.y,c=color,s=4)\n",
    "ax.legend(handles=[\n",
    "   Line2D([0], [0], marker='o', color='w', markerfacecolor='royalblue',markersize=30, label='Alive'),\n",
    "   Line2D([0], [0], marker='o', color='w', markerfacecolor='red' ,markersize=30,label='Expired'),\n",
    "                  ],\n",
    "          loc='upper right', fontsize=30\n",
    ")\n",
    "\n",
    "\n",
    "plt.show()"
   ]
  }
 ],
 "metadata": {
  "kernelspec": {
   "display_name": "Python 3",
   "language": "python",
   "name": "python3"
  },
  "language_info": {
   "codemirror_mode": {
    "name": "ipython",
    "version": 3
   },
   "file_extension": ".py",
   "mimetype": "text/x-python",
   "name": "python",
   "nbconvert_exporter": "python",
   "pygments_lexer": "ipython3",
   "version": "3.7.4"
  }
 },
 "nbformat": 4,
 "nbformat_minor": 2
}
